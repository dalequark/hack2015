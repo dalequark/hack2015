{
 "metadata": {
  "name": "",
  "signature": "sha256:dddc4e1bbd9b2235e75046fbb959026582b6eace6ca83b1d39fd937e93ca123f"
 },
 "nbformat": 3,
 "nbformat_minor": 0,
 "worksheets": [
  {
   "cells": [
    {
     "cell_type": "code",
     "collapsed": false,
     "input": [
      "import matplotlib.pyplot as plt\n",
      "import time"
     ],
     "language": "python",
     "metadata": {},
     "outputs": [],
     "prompt_number": 1
    },
    {
     "cell_type": "code",
     "collapsed": false,
     "input": [
      "f = open('./Sun1226AMStart')\n",
      "timeStamp = []\n",
      "gsr = []\n",
      "heartrate = []\n",
      "for line in f:\n",
      "    arr = [point[:-1] for point in line.split()]\n",
      "    timeStamp.append(float(arr[0]))\n",
      "    gsr.append(float(arr[1]))\n",
      "    heartrate.append(float(arr[2]))\n",
      "\n",
      "timestamp2 = [time.localtime(i) for i in timeStamp]\n",
      "timestamp2 = [str(stamp.tm_hour) + \":\" + str(stamp.tm_min) + \":\" + str(stamp.tm_sec) for stamp in timestamp2]\n",
      "plt.plot(gsr)\n",
      "plt.show()\n",
      "print timestamp2[983]"
     ],
     "language": "python",
     "metadata": {},
     "outputs": [
      {
       "output_type": "stream",
       "stream": "stdout",
       "text": [
        "0:28:33\n"
       ]
      }
     ],
     "prompt_number": 18
    },
    {
     "cell_type": "code",
     "collapsed": false,
     "input": [],
     "language": "python",
     "metadata": {},
     "outputs": [],
     "prompt_number": 15
    },
    {
     "cell_type": "code",
     "collapsed": false,
     "input": [],
     "language": "python",
     "metadata": {},
     "outputs": []
    },
    {
     "cell_type": "code",
     "collapsed": false,
     "input": [],
     "language": "python",
     "metadata": {},
     "outputs": []
    }
   ],
   "metadata": {}
  }
 ]
}