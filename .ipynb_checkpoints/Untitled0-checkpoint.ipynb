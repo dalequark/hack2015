{
 "metadata": {
  "name": "",
  "signature": "sha256:f9bff07cdd45a7f5fa780a24cd10a91c997c22d8434bb300d2f50d59ae8012df"
 },
 "nbformat": 3,
 "nbformat_minor": 0,
 "worksheets": [
  {
   "cells": [
    {
     "cell_type": "code",
     "collapsed": false,
     "input": [
      "import sys, serial\n",
      "from matplotlib import pyplot as plt\n",
      "sample = []\n",
      "%matplotlib inline\n",
      "\n",
      "for i in range(100):\n",
      "    sample.append(i)\n",
      "    plt.plot(sample)\n",
      "    plt.show()\n",
      "    \n",
      "\n"
     ],
     "language": "python",
     "metadata": {},
     "outputs": []
    },
    {
     "cell_type": "code",
     "collapsed": false,
     "input": [],
     "language": "python",
     "metadata": {},
     "outputs": []
    }
   ],
   "metadata": {}
  }
 ]
}