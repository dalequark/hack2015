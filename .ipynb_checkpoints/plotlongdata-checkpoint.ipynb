{
 "metadata": {
  "name": "",
  "signature": "sha256:3c2fe12a0f83efc7f4f62a8085b38dc62ce7f03e22bfcc53ff021e41860a9055"
 },
 "nbformat": 3,
 "nbformat_minor": 0,
 "worksheets": [
  {
   "cells": [
    {
     "cell_type": "code",
     "collapsed": false,
     "input": [
      "import matplotlib.pyplot as plt\n",
      "import time"
     ],
     "language": "python",
     "metadata": {},
     "outputs": [],
     "prompt_number": 1
    },
    {
     "cell_type": "code",
     "collapsed": false,
     "input": [
      "f = open('./Sun1226AMStart')\n",
      "timeStamp = []\n",
      "gsr = []\n",
      "heartrate = []\n",
      "for line in f:\n",
      "    arr = [point[:-1] for point in line.split()]\n",
      "    timeStamp.append(float(arr[0]))\n",
      "    gsr.append(float(arr[1]))\n",
      "    heartrate.append(float(arr[2]))\n",
      "\n",
      "timestamp2 = [time.localtime(i) for i in timeStamp]\n",
      "timestamp2 = [str(stamp.tm_hour) + \":\" + str(stamp.tm_min) + \":\" + str(stamp.tm_sec) for stamp in timestamp2]\n",
      "plt.plot(gsr)\n",
      "plt.show()"
     ],
     "language": "python",
     "metadata": {},
     "outputs": []
    },
    {
     "cell_type": "code",
     "collapsed": false,
     "input": [],
     "language": "python",
     "metadata": {},
     "outputs": [
      {
       "ename": "NameError",
       "evalue": "name 'timestamp2' is not defined",
       "output_type": "pyerr",
       "traceback": [
        "\u001b[0;31m---------------------------------------------------------------------------\u001b[0m\n\u001b[0;31mNameError\u001b[0m                                 Traceback (most recent call last)",
        "\u001b[0;32m<ipython-input-8-7dbe2efc8986>\u001b[0m in \u001b[0;36m<module>\u001b[0;34m()\u001b[0m\n\u001b[0;32m----> 1\u001b[0;31m \u001b[0;32mprint\u001b[0m \u001b[0mtimestamp2\u001b[0m\u001b[0;34m\u001b[0m\u001b[0m\n\u001b[0m",
        "\u001b[0;31mNameError\u001b[0m: name 'timestamp2' is not defined"
       ]
      }
     ],
     "prompt_number": 8
    },
    {
     "cell_type": "code",
     "collapsed": false,
     "input": [],
     "language": "python",
     "metadata": {},
     "outputs": []
    },
    {
     "cell_type": "code",
     "collapsed": false,
     "input": [],
     "language": "python",
     "metadata": {},
     "outputs": []
    }
   ],
   "metadata": {}
  }
 ]
}