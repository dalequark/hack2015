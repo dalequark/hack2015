{
 "metadata": {
  "name": "",
  "signature": "sha256:0e62b1def9ccadaf28f2352cfd59f0e5643645efcbb7e2dcd5cd07ed5a4f5e04"
 },
 "nbformat": 3,
 "nbformat_minor": 0,
 "worksheets": [
  {
   "cells": [
    {
     "cell_type": "code",
     "collapsed": false,
     "input": [
      "import matplotlib.pyplot as plt\n",
      "%matplotlib inline\n",
      "\n",
      "f = open('./testdata.csv')\n",
      "data = [line.split()[1][0:-1] for line in f]\n",
      "data = [10*float(dat) for dat in data]\n",
      "plt.plot(data)\n",
      "plt.show()\n",
      "    "
     ],
     "language": "python",
     "metadata": {},
     "outputs": [
      {
       "metadata": {},
       "output_type": "display_data",
       "png": "[encoded data removed]",
       "text": [
        "<matplotlib.figure.Figure at 0x10cd02510>"
       ]
      }
     ],
     "prompt_number": 29
    },
    {
     "cell_type": "code",
     "collapsed": false,
     "input": [],
     "language": "python",
     "metadata": {},
     "outputs": []
    }
   ],
   "metadata": {}
  }
 ]
}